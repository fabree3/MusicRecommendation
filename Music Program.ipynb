{
 "cells": [
  {
   "cell_type": "code",
   "execution_count": 1,
   "metadata": {},
   "outputs": [],
   "source": [
    "import pandas as pd"
   ]
  },
  {
   "cell_type": "code",
   "execution_count": 2,
   "metadata": {},
   "outputs": [],
   "source": [
    "f = open(\"streaming.txt\")\n",
    "lines = f.read().split(\"\\n\")\n",
    "f.close()"
   ]
  },
  {
   "cell_type": "code",
   "execution_count": 3,
   "metadata": {},
   "outputs": [],
   "source": [
    "users = {}\n",
    "songs = {}"
   ]
  },
  {
   "cell_type": "code",
   "execution_count": 4,
   "metadata": {},
   "outputs": [
    {
     "name": "stdout",
     "output_type": "stream",
     "text": [
      "USERS\n",
      "{'A': ['1', '2', '3'], 'B': ['2', '3', '4'], 'C': ['2', '5', '6', '7'], 'D': ['1', '5', '6', '7', '4'], 'E': ['6', '3'], 'F': ['1', '2', '3']}\n",
      "SONGS\n",
      "{'1': ['A', 'D', 'F'], '2': ['A', 'B', 'C', 'F'], '3': ['A', 'B', 'E', 'F'], '4': ['B', 'D'], '5': ['C', 'D'], '6': ['C', 'D', 'E'], '7': ['C', 'D']}\n"
     ]
    }
   ],
   "source": [
    "# STEP 1\n",
    "# =========================\n",
    "for line in lines:\n",
    "    cols = line.split(\" \")\n",
    "    user = cols[0]\n",
    "    song = cols[1]\n",
    "    \n",
    "    if song in songs:\n",
    "        songs[song].append(user)\n",
    "    else:\n",
    "        songs[song] = [user]\n",
    "    \n",
    "    if user in users:\n",
    "        users[user].append(song)\n",
    "    else:\n",
    "        users[user] = [song]\n",
    "\n",
    "print(\"USERS\")\n",
    "print(users)\n",
    "\n",
    "print(\"SONGS\")\n",
    "print(songs)"
   ]
  },
  {
   "cell_type": "code",
   "execution_count": 5,
   "metadata": {},
   "outputs": [
    {
     "name": "stdout",
     "output_type": "stream",
     "text": [
      "2 4\n"
     ]
    }
   ],
   "source": [
    "# STEP 2a\n",
    "# =========================        \n",
    "mostSong = \"unknown\"\n",
    "mostSongCount = 0\n",
    "\n",
    "for song in songs:\n",
    "    listenedBy = songs[song] # list of people who listened to song\n",
    "    # has this song been listened to more than mostSong?\n",
    "    if len(listenedBy) > mostSongCount:\n",
    "        mostSong = song\n",
    "        mostSongCount = len(listenedBy)\n",
    "\n",
    "print(mostSong, mostSongCount)"
   ]
  },
  {
   "cell_type": "code",
   "execution_count": 6,
   "metadata": {},
   "outputs": [
    {
     "name": "stdout",
     "output_type": "stream",
     "text": [
      "D 5\n",
      "on average users listened 3.3333333333333335\n"
     ]
    }
   ],
   "source": [
    "# STEP 2b, 2c\n",
    "# =========================        \n",
    "mostActive = \"unknown\"\n",
    "mostActiveCount = 0\n",
    "\n",
    "total = 0\n",
    "for user in users:\n",
    "    lisltenedSongs = users[user] # list of songs user listened to\n",
    "    # has this user listened more songs than mostActive?\n",
    "    if len(lisltenedSongs) > mostActiveCount:\n",
    "        mostActive = user\n",
    "        mostActiveCount = len(lisltenedSongs)\n",
    "     \n",
    "    total += len(lisltenedSongs)\n",
    "    \n",
    "print(mostActive, mostActiveCount)\n",
    "print(\"on average users listened\", total / len(users))"
   ]
  },
  {
   "cell_type": "code",
   "execution_count": 7,
   "metadata": {},
   "outputs": [
    {
     "name": "stdout",
     "output_type": "stream",
     "text": [
      "Target User:B\n",
      "A is most similar to B\n",
      "we recommend 1\n"
     ]
    }
   ],
   "source": [
    "# STEP 3\n",
    "# =========================    \n",
    "target = input(\"Target User:\")\n",
    "\n",
    "simUser = \"unknown\"\n",
    "simUserCount = 0\n",
    "\n",
    "for user in users:      # for each user\n",
    "    if user != target:  # make sure user is not target user\n",
    "        count = 0       # count the number of common songs\n",
    "        for song in users[user]: # between user and target\n",
    "            if song in users[target]:\n",
    "                count += 1\n",
    "        \n",
    "        if count > simUserCount:\n",
    "            simUser = user\n",
    "            simUserCount = count\n",
    "    \n",
    "print(simUser, \"is most similar to\", target)\n",
    "\n",
    "# find a song target has not yet listened   \n",
    "for song in users[simUser]:\n",
    "    if not song in users[target]:\n",
    "        print(\"we recommend\", song)"
   ]
  },
  {
   "cell_type": "code",
   "execution_count": null,
   "metadata": {},
   "outputs": [],
   "source": []
  }
 ],
 "metadata": {
  "kernelspec": {
   "display_name": "Python 3",
   "language": "python",
   "name": "python3"
  },
  "language_info": {
   "codemirror_mode": {
    "name": "ipython",
    "version": 3
   },
   "file_extension": ".py",
   "mimetype": "text/x-python",
   "name": "python",
   "nbconvert_exporter": "python",
   "pygments_lexer": "ipython3",
   "version": "3.8.5"
  }
 },
 "nbformat": 4,
 "nbformat_minor": 4
}
